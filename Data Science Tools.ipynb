{
 "cells": [
  {
   "cell_type": "markdown",
   "id": "c775d2b2",
   "metadata": {},
   "source": [
    "# Data Science Tools"
   ]
  },
  {
   "cell_type": "markdown",
   "id": "cb40bfd1",
   "metadata": {},
   "source": [
    "In this notebook, Data Science tools are sumarized"
   ]
  },
  {
   "cell_type": "markdown",
   "id": "57bec50c",
   "metadata": {},
   "source": [
    "Some of the popular data science languages are\n",
    "1. Python\n",
    "2. R\n",
    "3. SQL"
   ]
  },
  {
   "cell_type": "markdown",
   "id": "aab25b60",
   "metadata": {},
   "source": [
    "Some data science popular libraries are\n",
    "\n",
    "    1. TensorFLow\n",
    "    2. Numpy\n",
    "    3. Pandas\n",
    "    4. Keras"
   ]
  },
  {
   "cell_type": "markdown",
   "id": "0665214e",
   "metadata": {},
   "source": [
    "|Data Science Tools|\n",
    "|---|\n",
    "|SAS|\n",
    "|Apache Hadoop|\n",
    "|TensorFlow|"
   ]
  },
  {
   "cell_type": "markdown",
   "id": "70e13a30",
   "metadata": {},
   "source": [
    "### the arithmetic expressions are"
   ]
  },
  {
   "cell_type": "code",
   "execution_count": 7,
   "id": "50729a23",
   "metadata": {},
   "outputs": [
    {
     "data": {
      "text/plain": [
       "17"
      ]
     },
     "execution_count": 7,
     "metadata": {},
     "output_type": "execute_result"
    }
   ],
   "source": [
    "#multiply and add numbers\n",
    "\n",
    "(3*4)+5"
   ]
  },
  {
   "cell_type": "code",
   "execution_count": 8,
   "id": "fdcabe2f",
   "metadata": {},
   "outputs": [
    {
     "data": {
      "text/plain": [
       "5.0"
      ]
     },
     "execution_count": 8,
     "metadata": {},
     "output_type": "execute_result"
    }
   ],
   "source": [
    "#this will convert minutes to hours by dividing by 60\n",
    "\n",
    "300/60"
   ]
  },
  {
   "cell_type": "markdown",
   "id": "ad420c04",
   "metadata": {},
   "source": [
    "Objectives:\n",
    "- list popular languages for data science\n",
    "- list popular libraries for data science\n",
    "- show operations"
   ]
  },
  {
   "cell_type": "markdown",
   "id": "bb6b8b27",
   "metadata": {},
   "source": [
    "## Author: \n",
    "Felipe Bardelli Dinardi"
   ]
  }
 ],
 "metadata": {
  "kernelspec": {
   "display_name": "Python 3 (ipykernel)",
   "language": "python",
   "name": "python3"
  },
  "language_info": {
   "codemirror_mode": {
    "name": "ipython",
    "version": 3
   },
   "file_extension": ".py",
   "mimetype": "text/x-python",
   "name": "python",
   "nbconvert_exporter": "python",
   "pygments_lexer": "ipython3",
   "version": "3.9.13"
  }
 },
 "nbformat": 4,
 "nbformat_minor": 5
}
